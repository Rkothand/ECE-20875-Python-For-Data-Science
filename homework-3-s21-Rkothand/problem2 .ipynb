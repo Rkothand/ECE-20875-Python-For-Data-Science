Dist A is a gaussian distribution as shown in the attached graph. This is proven by the distribution shown having the highest correlation with the line of best fit when compared with all the given distribution types.

Dist B has a laplace distribution as shown in the attached graph. This is proven becuase the line has the least curvature and is the closest to the line of best fit

Dist C has an exponential distribution as shown in the attached graph. This is proven becuase it has the least curvature of the graphs generated using all of the distributions and it is also the closest in shape and correlation to the line of best fit. 
